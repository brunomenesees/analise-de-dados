{
  "nbformat": 4,
  "nbformat_minor": 0,
  "metadata": {
    "kernelspec": {
      "display_name": "Python 3",
      "language": "python",
      "name": "python3"
    },
    "language_info": {
      "codemirror_mode": {
        "name": "ipython",
        "version": 3
      },
      "file_extension": ".py",
      "mimetype": "text/x-python",
      "name": "python",
      "nbconvert_exporter": "python",
      "pygments_lexer": "ipython3",
      "version": "3.7.4"
    },
    "colab": {
      "name": " Análise de Dados Exploratória.ipynb",
      "provenance": []
    }
  },
  "cells": [
    {
      "cell_type": "markdown",
      "metadata": {
        "id": "QEgpC37sTpCf"
      },
      "source": [
        "# Análise Exploratória "
      ]
    },
    {
      "cell_type": "markdown",
      "metadata": {
        "id": "tEVPQpMDTpCj"
      },
      "source": [
        "### Análise Exploratória de Dados com Pandas e Matplotlib"
      ]
    },
    {
      "cell_type": "code",
      "metadata": {
        "id": "EORChmW8TpCj",
        "outputId": "751e3638-c8e2-4ee3-ae02-02df1636f7b0"
      },
      "source": [
        "# Importando objeto Series do Pandas\n",
        "from pandas import Series\n",
        "\n",
        "# Importando a lib do Pandas\n",
        "import pandas as pd\n",
        "\n",
        "# Verificando versão\n",
        "pd.__version__"
      ],
      "execution_count": null,
      "outputs": [
        {
          "output_type": "execute_result",
          "data": {
            "text/plain": [
              "'0.25.1'"
            ]
          },
          "metadata": {
            "tags": []
          },
          "execution_count": 1
        }
      ]
    },
    {
      "cell_type": "markdown",
      "metadata": {
        "id": "q4l_ch99TpCl"
      },
      "source": [
        "#### Explorando a biblioteca Series"
      ]
    },
    {
      "cell_type": "code",
      "metadata": {
        "id": "UAMpXto1TpCl",
        "outputId": "14d3e1c5-dd22-4f9d-ffcd-8659ae48e267"
      },
      "source": [
        "obj = Series([1, 2, 3, 4, -4, -3, -2, -1])\n",
        "obj"
      ],
      "execution_count": null,
      "outputs": [
        {
          "output_type": "execute_result",
          "data": {
            "text/plain": [
              "0    1\n",
              "1    2\n",
              "2    3\n",
              "3    4\n",
              "4   -4\n",
              "5   -3\n",
              "6   -2\n",
              "7   -1\n",
              "dtype: int64"
            ]
          },
          "metadata": {
            "tags": []
          },
          "execution_count": 2
        }
      ]
    },
    {
      "cell_type": "code",
      "metadata": {
        "id": "Hd-EbgGyTpCl",
        "outputId": "262edea4-4b39-465a-a258-8c49f1e2e106"
      },
      "source": [
        "# Objeto do tipo Series\n",
        "type(obj)"
      ],
      "execution_count": null,
      "outputs": [
        {
          "output_type": "execute_result",
          "data": {
            "text/plain": [
              "pandas.core.series.Series"
            ]
          },
          "metadata": {
            "tags": []
          },
          "execution_count": 3
        }
      ]
    },
    {
      "cell_type": "code",
      "metadata": {
        "id": "hDYEleyJTpCm",
        "outputId": "f961bf4b-ffa0-4c30-ef67-3bb45c66afaa"
      },
      "source": [
        "# Exibindo os valores e índices de um objeto series'\n",
        "\n",
        "print('Values : {}, Index : {}'.format(obj.values, obj.index))"
      ],
      "execution_count": null,
      "outputs": [
        {
          "output_type": "stream",
          "text": [
            "Values : [ 1  2  3  4 -4 -3 -2 -1], Index : RangeIndex(start=0, stop=8, step=1)\n"
          ],
          "name": "stdout"
        }
      ]
    },
    {
      "cell_type": "code",
      "metadata": {
        "id": "1EMj91A0TpCm"
      },
      "source": [
        "# Criando Series a partir de um dicionário\n",
        "\n",
        "obj2 = Series({\"HQ\": \"Superman: O Legado das Estrelas\", \"QtdPags\": 350, \"Preco\":45.89})"
      ],
      "execution_count": null,
      "outputs": []
    },
    {
      "cell_type": "code",
      "metadata": {
        "id": "9JPocrBJTpCn"
      },
      "source": [
        "obj3 = Series([15, 699, 12, 33], index = ['Item 1', 'Item 2', 'Item 3', 'Item 4'])"
      ],
      "execution_count": null,
      "outputs": []
    },
    {
      "cell_type": "code",
      "metadata": {
        "id": "LNKP1ZMfTpCn",
        "outputId": "eccdfba3-cd15-47a3-ac4b-b1732579e570"
      },
      "source": [
        "# Fazendo um slicing no objeto Series criado\n",
        "\n",
        "obj3[obj3 > 30]"
      ],
      "execution_count": null,
      "outputs": [
        {
          "output_type": "execute_result",
          "data": {
            "text/plain": [
              "Item 2    699\n",
              "Item 4     33\n",
              "dtype: int64"
            ]
          },
          "metadata": {
            "tags": []
          },
          "execution_count": 12
        }
      ]
    },
    {
      "cell_type": "code",
      "metadata": {
        "id": "JlvVBrSHTpCo"
      },
      "source": [
        "dados_dict = {\"Batman\": 1450, \"Superman\": 1500, \"Mulher-Maravilha\":1600, \"Lanterna Verde\": 1440, \"The Flash\": 1900}\n",
        "\n",
        "dados_list = [\"Batman\", \"Superman\", \"Lanterna Verde\", \"Mulher-Maravilha\", \"The Flash\", \"Caçador de Marte\", \"Ciborgue\", \"Aquaman\"]"
      ],
      "execution_count": null,
      "outputs": []
    },
    {
      "cell_type": "code",
      "metadata": {
        "id": "35zrB9XzTpCo",
        "outputId": "7a425d5b-d0a1-4736-cbb3-d0ed5dedbbd4"
      },
      "source": [
        "# Criando um Series a partir de um dicionário e uma lista, gerando valores NaN\n",
        "\n",
        "jla = Series(dados_dict, dados_list)\n",
        "jla"
      ],
      "execution_count": null,
      "outputs": [
        {
          "output_type": "execute_result",
          "data": {
            "text/plain": [
              "Batman              1450.0\n",
              "Superman            1500.0\n",
              "Lanterna Verde      1440.0\n",
              "Mulher-Maravilha    1600.0\n",
              "The Flash           1900.0\n",
              "Caçador de Marte       NaN\n",
              "Ciborgue               NaN\n",
              "Aquaman                NaN\n",
              "dtype: float64"
            ]
          },
          "metadata": {
            "tags": []
          },
          "execution_count": 18
        }
      ]
    },
    {
      "cell_type": "code",
      "metadata": {
        "id": "S_uGVIOLTpCo",
        "outputId": "23e0220b-9a67-4e5d-dd39-536bb6fb8564"
      },
      "source": [
        "# Verificação de nulos e não nulos\n",
        "\n",
        "pd.isnull(jla)"
      ],
      "execution_count": null,
      "outputs": [
        {
          "output_type": "execute_result",
          "data": {
            "text/plain": [
              "Batman              False\n",
              "Superman            False\n",
              "Lanterna Verde      False\n",
              "Mulher-Maravilha    False\n",
              "The Flash           False\n",
              "Caçador de Marte     True\n",
              "Ciborgue             True\n",
              "Aquaman              True\n",
              "dtype: bool"
            ]
          },
          "metadata": {
            "tags": []
          },
          "execution_count": 20
        }
      ]
    },
    {
      "cell_type": "code",
      "metadata": {
        "id": "hqUBAcv9TpCp",
        "outputId": "e26a8930-27da-425f-c3e6-b92cfdeb4507"
      },
      "source": [
        "pd.notnull(jla)"
      ],
      "execution_count": null,
      "outputs": [
        {
          "output_type": "execute_result",
          "data": {
            "text/plain": [
              "Batman               True\n",
              "Superman             True\n",
              "Lanterna Verde       True\n",
              "Mulher-Maravilha     True\n",
              "The Flash            True\n",
              "Caçador de Marte    False\n",
              "Ciborgue            False\n",
              "Aquaman             False\n",
              "dtype: bool"
            ]
          },
          "metadata": {
            "tags": []
          },
          "execution_count": 21
        }
      ]
    },
    {
      "cell_type": "code",
      "metadata": {
        "id": "amYXAtaVTpCp",
        "outputId": "d48ee0f7-1212-4b82-cbb0-559800024749"
      },
      "source": [
        "jla.isnull()"
      ],
      "execution_count": null,
      "outputs": [
        {
          "output_type": "execute_result",
          "data": {
            "text/plain": [
              "Batman              False\n",
              "Superman            False\n",
              "Lanterna Verde      False\n",
              "Mulher-Maravilha    False\n",
              "The Flash           False\n",
              "Caçador de Marte     True\n",
              "Ciborgue             True\n",
              "Aquaman              True\n",
              "dtype: bool"
            ]
          },
          "metadata": {
            "tags": []
          },
          "execution_count": 23
        }
      ]
    },
    {
      "cell_type": "code",
      "metadata": {
        "id": "kOLJahOKTpCp",
        "outputId": "d516ffcd-2b2e-4b96-be01-ce1b5fc77312"
      },
      "source": [
        "# Concatenação entre Series dos objetos obj e jla\n",
        "\n",
        "obj2_jla = obj2 + jla\n",
        "obj2_jla"
      ],
      "execution_count": null,
      "outputs": [
        {
          "output_type": "execute_result",
          "data": {
            "text/plain": [
              "Aquaman             NaN\n",
              "Batman              NaN\n",
              "Caçador de Marte    NaN\n",
              "Ciborgue            NaN\n",
              "HQ                  NaN\n",
              "Lanterna Verde      NaN\n",
              "Mulher-Maravilha    NaN\n",
              "Preco               NaN\n",
              "QtdPags             NaN\n",
              "Superman            NaN\n",
              "The Flash           NaN\n",
              "dtype: object"
            ]
          },
          "metadata": {
            "tags": []
          },
          "execution_count": 26
        }
      ]
    },
    {
      "cell_type": "code",
      "metadata": {
        "id": "31Kmo_PmTpCq",
        "outputId": "dfcb0fc2-e9ae-4efe-8286-f1a2021202cc"
      },
      "source": [
        "jla.name = \"Superman\"\n",
        "jla.index.name = \"Superman\"\n",
        "jla"
      ],
      "execution_count": null,
      "outputs": [
        {
          "output_type": "execute_result",
          "data": {
            "text/plain": [
              "Superman\n",
              "Batman              1450.0\n",
              "Superman            1500.0\n",
              "Lanterna Verde      1440.0\n",
              "Mulher-Maravilha    1600.0\n",
              "The Flash           1900.0\n",
              "Caçador de Marte       NaN\n",
              "Ciborgue               NaN\n",
              "Aquaman                NaN\n",
              "Name: Superman, dtype: float64"
            ]
          },
          "metadata": {
            "tags": []
          },
          "execution_count": 32
        }
      ]
    },
    {
      "cell_type": "markdown",
      "metadata": {
        "id": "FvyLmKWhTpCq"
      },
      "source": [
        "#### Manipulando DataFrames do Pandas"
      ]
    },
    {
      "cell_type": "code",
      "metadata": {
        "id": "tu4je6iqTpCq"
      },
      "source": [
        "# Importando o DataFrame\n",
        "\n",
        "from pandas import DataFrame"
      ],
      "execution_count": null,
      "outputs": []
    },
    {
      "cell_type": "code",
      "metadata": {
        "id": "UKb-Ku1wTpCq",
        "outputId": "e4b7f015-fca6-4850-bbde-a616d64714e4"
      },
      "source": [
        "# Criando um dicionário como dataset de estudo\n",
        "\n",
        "data = {\n",
        "    \"UF\": [\"PR\", \"RJ\", \"SP\", \"MG\", \"AM\"],\n",
        "    \"Ano\": [2005, 2003, 2009, 2004, 2001],\n",
        "    \"População\": [150505, 132121, 8198198, 22321, 112332]\n",
        "}\n",
        "\n",
        "# O DataFrame pode ser criado a partir de um dicionário\n",
        "\n",
        "df = DataFrame(data)\n",
        "df"
      ],
      "execution_count": null,
      "outputs": [
        {
          "output_type": "execute_result",
          "data": {
            "text/html": [
              "<div>\n",
              "<style scoped>\n",
              "    .dataframe tbody tr th:only-of-type {\n",
              "        vertical-align: middle;\n",
              "    }\n",
              "\n",
              "    .dataframe tbody tr th {\n",
              "        vertical-align: top;\n",
              "    }\n",
              "\n",
              "    .dataframe thead th {\n",
              "        text-align: right;\n",
              "    }\n",
              "</style>\n",
              "<table border=\"1\" class=\"dataframe\">\n",
              "  <thead>\n",
              "    <tr style=\"text-align: right;\">\n",
              "      <th></th>\n",
              "      <th>UF</th>\n",
              "      <th>Ano</th>\n",
              "      <th>População</th>\n",
              "    </tr>\n",
              "  </thead>\n",
              "  <tbody>\n",
              "    <tr>\n",
              "      <td>0</td>\n",
              "      <td>PR</td>\n",
              "      <td>2005</td>\n",
              "      <td>150505</td>\n",
              "    </tr>\n",
              "    <tr>\n",
              "      <td>1</td>\n",
              "      <td>RJ</td>\n",
              "      <td>2003</td>\n",
              "      <td>132121</td>\n",
              "    </tr>\n",
              "    <tr>\n",
              "      <td>2</td>\n",
              "      <td>SP</td>\n",
              "      <td>2009</td>\n",
              "      <td>8198198</td>\n",
              "    </tr>\n",
              "    <tr>\n",
              "      <td>3</td>\n",
              "      <td>MG</td>\n",
              "      <td>2004</td>\n",
              "      <td>22321</td>\n",
              "    </tr>\n",
              "    <tr>\n",
              "      <td>4</td>\n",
              "      <td>AM</td>\n",
              "      <td>2001</td>\n",
              "      <td>112332</td>\n",
              "    </tr>\n",
              "  </tbody>\n",
              "</table>\n",
              "</div>"
            ],
            "text/plain": [
              "   UF   Ano  População\n",
              "0  PR  2005     150505\n",
              "1  RJ  2003     132121\n",
              "2  SP  2009    8198198\n",
              "3  MG  2004      22321\n",
              "4  AM  2001     112332"
            ]
          },
          "metadata": {
            "tags": []
          },
          "execution_count": 40
        }
      ]
    },
    {
      "cell_type": "code",
      "metadata": {
        "id": "32eGvOunTpCr",
        "outputId": "46498e3e-f28b-457f-fcb6-7d7d6358d745"
      },
      "source": [
        "type(df)"
      ],
      "execution_count": null,
      "outputs": [
        {
          "output_type": "execute_result",
          "data": {
            "text/plain": [
              "pandas.core.frame.DataFrame"
            ]
          },
          "metadata": {
            "tags": []
          },
          "execution_count": 41
        }
      ]
    },
    {
      "cell_type": "code",
      "metadata": {
        "id": "-MNwJYNyTpCr",
        "outputId": "33e67bb0-5826-4af8-a72e-30efa3f90c1f"
      },
      "source": [
        "df2 = DataFrame(\n",
        "    data, \n",
        "    columns = {'Ano', 'UF', 'População', 'Débito'}, \n",
        "    index = ['um', 'dois', 'três', 'quatro', 'cinco']\n",
        ")\n",
        "df2"
      ],
      "execution_count": null,
      "outputs": [
        {
          "output_type": "execute_result",
          "data": {
            "text/html": [
              "<div>\n",
              "<style scoped>\n",
              "    .dataframe tbody tr th:only-of-type {\n",
              "        vertical-align: middle;\n",
              "    }\n",
              "\n",
              "    .dataframe tbody tr th {\n",
              "        vertical-align: top;\n",
              "    }\n",
              "\n",
              "    .dataframe thead th {\n",
              "        text-align: right;\n",
              "    }\n",
              "</style>\n",
              "<table border=\"1\" class=\"dataframe\">\n",
              "  <thead>\n",
              "    <tr style=\"text-align: right;\">\n",
              "      <th></th>\n",
              "      <th>Débito</th>\n",
              "      <th>UF</th>\n",
              "      <th>População</th>\n",
              "      <th>Ano</th>\n",
              "    </tr>\n",
              "  </thead>\n",
              "  <tbody>\n",
              "    <tr>\n",
              "      <td>um</td>\n",
              "      <td>NaN</td>\n",
              "      <td>PR</td>\n",
              "      <td>150505</td>\n",
              "      <td>2005</td>\n",
              "    </tr>\n",
              "    <tr>\n",
              "      <td>dois</td>\n",
              "      <td>NaN</td>\n",
              "      <td>RJ</td>\n",
              "      <td>132121</td>\n",
              "      <td>2003</td>\n",
              "    </tr>\n",
              "    <tr>\n",
              "      <td>três</td>\n",
              "      <td>NaN</td>\n",
              "      <td>SP</td>\n",
              "      <td>8198198</td>\n",
              "      <td>2009</td>\n",
              "    </tr>\n",
              "    <tr>\n",
              "      <td>quatro</td>\n",
              "      <td>NaN</td>\n",
              "      <td>MG</td>\n",
              "      <td>22321</td>\n",
              "      <td>2004</td>\n",
              "    </tr>\n",
              "    <tr>\n",
              "      <td>cinco</td>\n",
              "      <td>NaN</td>\n",
              "      <td>AM</td>\n",
              "      <td>112332</td>\n",
              "      <td>2001</td>\n",
              "    </tr>\n",
              "  </tbody>\n",
              "</table>\n",
              "</div>"
            ],
            "text/plain": [
              "       Débito  UF  População   Ano\n",
              "um        NaN  PR     150505  2005\n",
              "dois      NaN  RJ     132121  2003\n",
              "três      NaN  SP    8198198  2009\n",
              "quatro    NaN  MG      22321  2004\n",
              "cinco     NaN  AM     112332  2001"
            ]
          },
          "metadata": {
            "tags": []
          },
          "execution_count": 47
        }
      ]
    },
    {
      "cell_type": "code",
      "metadata": {
        "id": "7HQnJDuYTpCr",
        "outputId": "a98c539e-00c2-41a5-d258-7b56a4a63c6b"
      },
      "source": [
        "# Visualizando uma coluna\n",
        "\n",
        "df2[\"UF\"]"
      ],
      "execution_count": null,
      "outputs": [
        {
          "output_type": "execute_result",
          "data": {
            "text/plain": [
              "um        PR\n",
              "dois      RJ\n",
              "três      SP\n",
              "quatro    MG\n",
              "cinco     AM\n",
              "Name: UF, dtype: object"
            ]
          },
          "metadata": {
            "tags": []
          },
          "execution_count": 45
        }
      ]
    },
    {
      "cell_type": "code",
      "metadata": {
        "id": "TIaCh25KTpCs",
        "outputId": "c9db4782-a54e-4e21-aa0a-1a67778d0d03"
      },
      "source": [
        "df2.dtypes"
      ],
      "execution_count": null,
      "outputs": [
        {
          "output_type": "execute_result",
          "data": {
            "text/plain": [
              "Débito       object\n",
              "UF           object\n",
              "População     int64\n",
              "Ano           int64\n",
              "dtype: object"
            ]
          },
          "metadata": {
            "tags": []
          },
          "execution_count": 48
        }
      ]
    },
    {
      "cell_type": "code",
      "metadata": {
        "id": "wVnwrc4OTpCs",
        "outputId": "e08ca8ea-16cd-4665-feae-99de91173451"
      },
      "source": [
        "df2.UF"
      ],
      "execution_count": null,
      "outputs": [
        {
          "output_type": "execute_result",
          "data": {
            "text/plain": [
              "um        PR\n",
              "dois      RJ\n",
              "três      SP\n",
              "quatro    MG\n",
              "cinco     AM\n",
              "Name: UF, dtype: object"
            ]
          },
          "metadata": {
            "tags": []
          },
          "execution_count": 49
        }
      ]
    },
    {
      "cell_type": "code",
      "metadata": {
        "id": "hC4sewRrTpCs",
        "outputId": "1d877938-0e34-40d7-906c-801669367bdc"
      },
      "source": [
        "df2[:2]"
      ],
      "execution_count": null,
      "outputs": [
        {
          "output_type": "execute_result",
          "data": {
            "text/html": [
              "<div>\n",
              "<style scoped>\n",
              "    .dataframe tbody tr th:only-of-type {\n",
              "        vertical-align: middle;\n",
              "    }\n",
              "\n",
              "    .dataframe tbody tr th {\n",
              "        vertical-align: top;\n",
              "    }\n",
              "\n",
              "    .dataframe thead th {\n",
              "        text-align: right;\n",
              "    }\n",
              "</style>\n",
              "<table border=\"1\" class=\"dataframe\">\n",
              "  <thead>\n",
              "    <tr style=\"text-align: right;\">\n",
              "      <th></th>\n",
              "      <th>Débito</th>\n",
              "      <th>UF</th>\n",
              "      <th>População</th>\n",
              "      <th>Ano</th>\n",
              "    </tr>\n",
              "  </thead>\n",
              "  <tbody>\n",
              "    <tr>\n",
              "      <td>um</td>\n",
              "      <td>NaN</td>\n",
              "      <td>PR</td>\n",
              "      <td>150505</td>\n",
              "      <td>2005</td>\n",
              "    </tr>\n",
              "    <tr>\n",
              "      <td>dois</td>\n",
              "      <td>NaN</td>\n",
              "      <td>RJ</td>\n",
              "      <td>132121</td>\n",
              "      <td>2003</td>\n",
              "    </tr>\n",
              "  </tbody>\n",
              "</table>\n",
              "</div>"
            ],
            "text/plain": [
              "     Débito  UF  População   Ano\n",
              "um      NaN  PR     150505  2005\n",
              "dois    NaN  RJ     132121  2003"
            ]
          },
          "metadata": {
            "tags": []
          },
          "execution_count": 50
        }
      ]
    },
    {
      "cell_type": "markdown",
      "metadata": {
        "id": "Vy1crJtFTpCs"
      },
      "source": [
        "#### Utilizando a biblioteca NumPy com Pandas"
      ]
    },
    {
      "cell_type": "code",
      "metadata": {
        "id": "1n1yigbKTpCs"
      },
      "source": [
        "import numpy as np"
      ],
      "execution_count": null,
      "outputs": []
    },
    {
      "cell_type": "code",
      "metadata": {
        "id": "FRNk2dB0TpCt",
        "outputId": "d661626d-e2a0-41fa-afce-6ea5c4428a61"
      },
      "source": [
        "# Utilizando NumPy para preencher os valores da coluna Débito, que era NaN, com valores de 0 a 4\n",
        "\n",
        "df2[\"Débito\"] =np.arange(5.)\n",
        "df2"
      ],
      "execution_count": null,
      "outputs": [
        {
          "output_type": "execute_result",
          "data": {
            "text/html": [
              "<div>\n",
              "<style scoped>\n",
              "    .dataframe tbody tr th:only-of-type {\n",
              "        vertical-align: middle;\n",
              "    }\n",
              "\n",
              "    .dataframe tbody tr th {\n",
              "        vertical-align: top;\n",
              "    }\n",
              "\n",
              "    .dataframe thead th {\n",
              "        text-align: right;\n",
              "    }\n",
              "</style>\n",
              "<table border=\"1\" class=\"dataframe\">\n",
              "  <thead>\n",
              "    <tr style=\"text-align: right;\">\n",
              "      <th></th>\n",
              "      <th>Débito</th>\n",
              "      <th>UF</th>\n",
              "      <th>População</th>\n",
              "      <th>Ano</th>\n",
              "    </tr>\n",
              "  </thead>\n",
              "  <tbody>\n",
              "    <tr>\n",
              "      <td>um</td>\n",
              "      <td>0.0</td>\n",
              "      <td>PR</td>\n",
              "      <td>150505</td>\n",
              "      <td>2005</td>\n",
              "    </tr>\n",
              "    <tr>\n",
              "      <td>dois</td>\n",
              "      <td>1.0</td>\n",
              "      <td>RJ</td>\n",
              "      <td>132121</td>\n",
              "      <td>2003</td>\n",
              "    </tr>\n",
              "    <tr>\n",
              "      <td>três</td>\n",
              "      <td>2.0</td>\n",
              "      <td>SP</td>\n",
              "      <td>8198198</td>\n",
              "      <td>2009</td>\n",
              "    </tr>\n",
              "    <tr>\n",
              "      <td>quatro</td>\n",
              "      <td>3.0</td>\n",
              "      <td>MG</td>\n",
              "      <td>22321</td>\n",
              "      <td>2004</td>\n",
              "    </tr>\n",
              "    <tr>\n",
              "      <td>cinco</td>\n",
              "      <td>4.0</td>\n",
              "      <td>AM</td>\n",
              "      <td>112332</td>\n",
              "      <td>2001</td>\n",
              "    </tr>\n",
              "  </tbody>\n",
              "</table>\n",
              "</div>"
            ],
            "text/plain": [
              "        Débito  UF  População   Ano\n",
              "um         0.0  PR     150505  2005\n",
              "dois       1.0  RJ     132121  2003\n",
              "três       2.0  SP    8198198  2009\n",
              "quatro     3.0  MG      22321  2004\n",
              "cinco      4.0  AM     112332  2001"
            ]
          },
          "metadata": {
            "tags": []
          },
          "execution_count": 55
        }
      ]
    },
    {
      "cell_type": "code",
      "metadata": {
        "id": "vztASBWJTpCt",
        "outputId": "9def3188-c04d-4875-f334-cf518574665c"
      },
      "source": [
        "df2.describe()"
      ],
      "execution_count": null,
      "outputs": [
        {
          "output_type": "execute_result",
          "data": {
            "text/html": [
              "<div>\n",
              "<style scoped>\n",
              "    .dataframe tbody tr th:only-of-type {\n",
              "        vertical-align: middle;\n",
              "    }\n",
              "\n",
              "    .dataframe tbody tr th {\n",
              "        vertical-align: top;\n",
              "    }\n",
              "\n",
              "    .dataframe thead th {\n",
              "        text-align: right;\n",
              "    }\n",
              "</style>\n",
              "<table border=\"1\" class=\"dataframe\">\n",
              "  <thead>\n",
              "    <tr style=\"text-align: right;\">\n",
              "      <th></th>\n",
              "      <th>Débito</th>\n",
              "      <th>População</th>\n",
              "      <th>Ano</th>\n",
              "    </tr>\n",
              "  </thead>\n",
              "  <tbody>\n",
              "    <tr>\n",
              "      <td>count</td>\n",
              "      <td>5.000000</td>\n",
              "      <td>5.000000e+00</td>\n",
              "      <td>5.000000</td>\n",
              "    </tr>\n",
              "    <tr>\n",
              "      <td>mean</td>\n",
              "      <td>2.000000</td>\n",
              "      <td>1.723095e+06</td>\n",
              "      <td>2004.400000</td>\n",
              "    </tr>\n",
              "    <tr>\n",
              "      <td>std</td>\n",
              "      <td>1.581139</td>\n",
              "      <td>3.620027e+06</td>\n",
              "      <td>2.966479</td>\n",
              "    </tr>\n",
              "    <tr>\n",
              "      <td>min</td>\n",
              "      <td>0.000000</td>\n",
              "      <td>2.232100e+04</td>\n",
              "      <td>2001.000000</td>\n",
              "    </tr>\n",
              "    <tr>\n",
              "      <td>25%</td>\n",
              "      <td>1.000000</td>\n",
              "      <td>1.123320e+05</td>\n",
              "      <td>2003.000000</td>\n",
              "    </tr>\n",
              "    <tr>\n",
              "      <td>50%</td>\n",
              "      <td>2.000000</td>\n",
              "      <td>1.321210e+05</td>\n",
              "      <td>2004.000000</td>\n",
              "    </tr>\n",
              "    <tr>\n",
              "      <td>75%</td>\n",
              "      <td>3.000000</td>\n",
              "      <td>1.505050e+05</td>\n",
              "      <td>2005.000000</td>\n",
              "    </tr>\n",
              "    <tr>\n",
              "      <td>max</td>\n",
              "      <td>4.000000</td>\n",
              "      <td>8.198198e+06</td>\n",
              "      <td>2009.000000</td>\n",
              "    </tr>\n",
              "  </tbody>\n",
              "</table>\n",
              "</div>"
            ],
            "text/plain": [
              "         Débito     População          Ano\n",
              "count  5.000000  5.000000e+00     5.000000\n",
              "mean   2.000000  1.723095e+06  2004.400000\n",
              "std    1.581139  3.620027e+06     2.966479\n",
              "min    0.000000  2.232100e+04  2001.000000\n",
              "25%    1.000000  1.123320e+05  2003.000000\n",
              "50%    2.000000  1.321210e+05  2004.000000\n",
              "75%    3.000000  1.505050e+05  2005.000000\n",
              "max    4.000000  8.198198e+06  2009.000000"
            ]
          },
          "metadata": {
            "tags": []
          },
          "execution_count": 56
        }
      ]
    },
    {
      "cell_type": "code",
      "metadata": {
        "id": "TF3Uhd1sTpCt",
        "outputId": "06283e45-d1f2-48c8-9340-3437e3846bb5"
      },
      "source": [
        "df2[\"dois\":\"quatro\"]"
      ],
      "execution_count": null,
      "outputs": [
        {
          "output_type": "execute_result",
          "data": {
            "text/html": [
              "<div>\n",
              "<style scoped>\n",
              "    .dataframe tbody tr th:only-of-type {\n",
              "        vertical-align: middle;\n",
              "    }\n",
              "\n",
              "    .dataframe tbody tr th {\n",
              "        vertical-align: top;\n",
              "    }\n",
              "\n",
              "    .dataframe thead th {\n",
              "        text-align: right;\n",
              "    }\n",
              "</style>\n",
              "<table border=\"1\" class=\"dataframe\">\n",
              "  <thead>\n",
              "    <tr style=\"text-align: right;\">\n",
              "      <th></th>\n",
              "      <th>Débito</th>\n",
              "      <th>UF</th>\n",
              "      <th>População</th>\n",
              "      <th>Ano</th>\n",
              "    </tr>\n",
              "  </thead>\n",
              "  <tbody>\n",
              "    <tr>\n",
              "      <td>dois</td>\n",
              "      <td>1.0</td>\n",
              "      <td>RJ</td>\n",
              "      <td>132121</td>\n",
              "      <td>2003</td>\n",
              "    </tr>\n",
              "    <tr>\n",
              "      <td>três</td>\n",
              "      <td>2.0</td>\n",
              "      <td>SP</td>\n",
              "      <td>8198198</td>\n",
              "      <td>2009</td>\n",
              "    </tr>\n",
              "    <tr>\n",
              "      <td>quatro</td>\n",
              "      <td>3.0</td>\n",
              "      <td>MG</td>\n",
              "      <td>22321</td>\n",
              "      <td>2004</td>\n",
              "    </tr>\n",
              "  </tbody>\n",
              "</table>\n",
              "</div>"
            ],
            "text/plain": [
              "        Débito  UF  População   Ano\n",
              "dois       1.0  RJ     132121  2003\n",
              "três       2.0  SP    8198198  2009\n",
              "quatro     3.0  MG      22321  2004"
            ]
          },
          "metadata": {
            "tags": []
          },
          "execution_count": 57
        }
      ]
    },
    {
      "cell_type": "code",
      "metadata": {
        "id": "2FGeBZB8TpCt",
        "outputId": "063b32b3-3434-4f00-c33e-78542b7ac093"
      },
      "source": [
        "# Busca dados a partir do índice desejado\n",
        "\n",
        "df2.iloc[2]"
      ],
      "execution_count": null,
      "outputs": [
        {
          "output_type": "execute_result",
          "data": {
            "text/plain": [
              "Débito             2\n",
              "UF                SP\n",
              "População    8198198\n",
              "Ano             2009\n",
              "Name: três, dtype: object"
            ]
          },
          "metadata": {
            "tags": []
          },
          "execution_count": 71
        }
      ]
    },
    {
      "cell_type": "code",
      "metadata": {
        "id": "C_dUN9lKTpCu",
        "outputId": "8c81375c-043c-46ad-be73-671d10d4b73c"
      },
      "source": [
        "df2[df2[\"Ano\"] < 2002]"
      ],
      "execution_count": null,
      "outputs": [
        {
          "output_type": "execute_result",
          "data": {
            "text/html": [
              "<div>\n",
              "<style scoped>\n",
              "    .dataframe tbody tr th:only-of-type {\n",
              "        vertical-align: middle;\n",
              "    }\n",
              "\n",
              "    .dataframe tbody tr th {\n",
              "        vertical-align: top;\n",
              "    }\n",
              "\n",
              "    .dataframe thead th {\n",
              "        text-align: right;\n",
              "    }\n",
              "</style>\n",
              "<table border=\"1\" class=\"dataframe\">\n",
              "  <thead>\n",
              "    <tr style=\"text-align: right;\">\n",
              "      <th></th>\n",
              "      <th>Débito</th>\n",
              "      <th>UF</th>\n",
              "      <th>População</th>\n",
              "      <th>Ano</th>\n",
              "    </tr>\n",
              "  </thead>\n",
              "  <tbody>\n",
              "    <tr>\n",
              "      <td>cinco</td>\n",
              "      <td>4.0</td>\n",
              "      <td>AM</td>\n",
              "      <td>112332</td>\n",
              "      <td>2001</td>\n",
              "    </tr>\n",
              "  </tbody>\n",
              "</table>\n",
              "</div>"
            ],
            "text/plain": [
              "       Débito  UF  População   Ano\n",
              "cinco     4.0  AM     112332  2001"
            ]
          },
          "metadata": {
            "tags": []
          },
          "execution_count": 72
        }
      ]
    },
    {
      "cell_type": "code",
      "metadata": {
        "id": "M_OB4DyrTpCu",
        "outputId": "3eb3a9f9-7737-4d26-8343-57d36fa3b641"
      },
      "source": [
        "# Localizar dados com base em uma consulta no índice\n",
        "\n",
        "df2.loc[\"quatro\"]"
      ],
      "execution_count": null,
      "outputs": [
        {
          "output_type": "execute_result",
          "data": {
            "text/plain": [
              "Débito           3\n",
              "UF              MG\n",
              "População    22321\n",
              "Ano           2004\n",
              "Name: quatro, dtype: object"
            ]
          },
          "metadata": {
            "tags": []
          },
          "execution_count": 73
        }
      ]
    },
    {
      "cell_type": "code",
      "metadata": {
        "id": "8qu2zTn9TpCu",
        "outputId": "b115aec7-d3d8-4eda-93e4-9fe9ef635da1"
      },
      "source": [
        "# Inverter colunas e índices\n",
        "\n",
        "df3 = pd.DataFrame({\n",
        "    \"Dias\": [1, 2, 3, 4, 5, 6],\n",
        "    \"Visitantes\": [156, 819, 232, 181, 114, 651],\n",
        "    \"Taxas\": [123, 22, 556, 12, 132, 12]\n",
        "})\n",
        "df3"
      ],
      "execution_count": null,
      "outputs": [
        {
          "output_type": "execute_result",
          "data": {
            "text/html": [
              "<div>\n",
              "<style scoped>\n",
              "    .dataframe tbody tr th:only-of-type {\n",
              "        vertical-align: middle;\n",
              "    }\n",
              "\n",
              "    .dataframe tbody tr th {\n",
              "        vertical-align: top;\n",
              "    }\n",
              "\n",
              "    .dataframe thead th {\n",
              "        text-align: right;\n",
              "    }\n",
              "</style>\n",
              "<table border=\"1\" class=\"dataframe\">\n",
              "  <thead>\n",
              "    <tr style=\"text-align: right;\">\n",
              "      <th></th>\n",
              "      <th>Dias</th>\n",
              "      <th>Visitantes</th>\n",
              "      <th>Taxas</th>\n",
              "    </tr>\n",
              "  </thead>\n",
              "  <tbody>\n",
              "    <tr>\n",
              "      <td>0</td>\n",
              "      <td>1</td>\n",
              "      <td>156</td>\n",
              "      <td>123</td>\n",
              "    </tr>\n",
              "    <tr>\n",
              "      <td>1</td>\n",
              "      <td>2</td>\n",
              "      <td>819</td>\n",
              "      <td>22</td>\n",
              "    </tr>\n",
              "    <tr>\n",
              "      <td>2</td>\n",
              "      <td>3</td>\n",
              "      <td>232</td>\n",
              "      <td>556</td>\n",
              "    </tr>\n",
              "    <tr>\n",
              "      <td>3</td>\n",
              "      <td>4</td>\n",
              "      <td>181</td>\n",
              "      <td>12</td>\n",
              "    </tr>\n",
              "    <tr>\n",
              "      <td>4</td>\n",
              "      <td>5</td>\n",
              "      <td>114</td>\n",
              "      <td>132</td>\n",
              "    </tr>\n",
              "    <tr>\n",
              "      <td>5</td>\n",
              "      <td>6</td>\n",
              "      <td>651</td>\n",
              "      <td>12</td>\n",
              "    </tr>\n",
              "  </tbody>\n",
              "</table>\n",
              "</div>"
            ],
            "text/plain": [
              "   Dias  Visitantes  Taxas\n",
              "0     1         156    123\n",
              "1     2         819     22\n",
              "2     3         232    556\n",
              "3     4         181     12\n",
              "4     5         114    132\n",
              "5     6         651     12"
            ]
          },
          "metadata": {
            "tags": []
          },
          "execution_count": 74
        }
      ]
    },
    {
      "cell_type": "code",
      "metadata": {
        "id": "BXIbA1GqTpCu",
        "outputId": "c6dd493e-2dd0-4cbf-c85f-4eb194a81886"
      },
      "source": [
        "df3.set_index(\"Dias\")"
      ],
      "execution_count": null,
      "outputs": [
        {
          "output_type": "execute_result",
          "data": {
            "text/html": [
              "<div>\n",
              "<style scoped>\n",
              "    .dataframe tbody tr th:only-of-type {\n",
              "        vertical-align: middle;\n",
              "    }\n",
              "\n",
              "    .dataframe tbody tr th {\n",
              "        vertical-align: top;\n",
              "    }\n",
              "\n",
              "    .dataframe thead th {\n",
              "        text-align: right;\n",
              "    }\n",
              "</style>\n",
              "<table border=\"1\" class=\"dataframe\">\n",
              "  <thead>\n",
              "    <tr style=\"text-align: right;\">\n",
              "      <th></th>\n",
              "      <th>Visitantes</th>\n",
              "      <th>Taxas</th>\n",
              "    </tr>\n",
              "    <tr>\n",
              "      <th>Dias</th>\n",
              "      <th></th>\n",
              "      <th></th>\n",
              "    </tr>\n",
              "  </thead>\n",
              "  <tbody>\n",
              "    <tr>\n",
              "      <td>1</td>\n",
              "      <td>156</td>\n",
              "      <td>123</td>\n",
              "    </tr>\n",
              "    <tr>\n",
              "      <td>2</td>\n",
              "      <td>819</td>\n",
              "      <td>22</td>\n",
              "    </tr>\n",
              "    <tr>\n",
              "      <td>3</td>\n",
              "      <td>232</td>\n",
              "      <td>556</td>\n",
              "    </tr>\n",
              "    <tr>\n",
              "      <td>4</td>\n",
              "      <td>181</td>\n",
              "      <td>12</td>\n",
              "    </tr>\n",
              "    <tr>\n",
              "      <td>5</td>\n",
              "      <td>114</td>\n",
              "      <td>132</td>\n",
              "    </tr>\n",
              "    <tr>\n",
              "      <td>6</td>\n",
              "      <td>651</td>\n",
              "      <td>12</td>\n",
              "    </tr>\n",
              "  </tbody>\n",
              "</table>\n",
              "</div>"
            ],
            "text/plain": [
              "      Visitantes  Taxas\n",
              "Dias                   \n",
              "1            156    123\n",
              "2            819     22\n",
              "3            232    556\n",
              "4            181     12\n",
              "5            114    132\n",
              "6            651     12"
            ]
          },
          "metadata": {
            "tags": []
          },
          "execution_count": 78
        }
      ]
    },
    {
      "cell_type": "code",
      "metadata": {
        "id": "3L-_rSauTpCv",
        "outputId": "d7419bfd-0d92-4f00-b0a9-4c71949c233e"
      },
      "source": [
        "df3[[\"Dias\", \"Taxas\"]]"
      ],
      "execution_count": null,
      "outputs": [
        {
          "output_type": "execute_result",
          "data": {
            "text/html": [
              "<div>\n",
              "<style scoped>\n",
              "    .dataframe tbody tr th:only-of-type {\n",
              "        vertical-align: middle;\n",
              "    }\n",
              "\n",
              "    .dataframe tbody tr th {\n",
              "        vertical-align: top;\n",
              "    }\n",
              "\n",
              "    .dataframe thead th {\n",
              "        text-align: right;\n",
              "    }\n",
              "</style>\n",
              "<table border=\"1\" class=\"dataframe\">\n",
              "  <thead>\n",
              "    <tr style=\"text-align: right;\">\n",
              "      <th></th>\n",
              "      <th>Dias</th>\n",
              "      <th>Taxas</th>\n",
              "    </tr>\n",
              "  </thead>\n",
              "  <tbody>\n",
              "    <tr>\n",
              "      <td>0</td>\n",
              "      <td>1</td>\n",
              "      <td>123</td>\n",
              "    </tr>\n",
              "    <tr>\n",
              "      <td>1</td>\n",
              "      <td>2</td>\n",
              "      <td>22</td>\n",
              "    </tr>\n",
              "    <tr>\n",
              "      <td>2</td>\n",
              "      <td>3</td>\n",
              "      <td>556</td>\n",
              "    </tr>\n",
              "    <tr>\n",
              "      <td>3</td>\n",
              "      <td>4</td>\n",
              "      <td>12</td>\n",
              "    </tr>\n",
              "    <tr>\n",
              "      <td>4</td>\n",
              "      <td>5</td>\n",
              "      <td>132</td>\n",
              "    </tr>\n",
              "    <tr>\n",
              "      <td>5</td>\n",
              "      <td>6</td>\n",
              "      <td>12</td>\n",
              "    </tr>\n",
              "  </tbody>\n",
              "</table>\n",
              "</div>"
            ],
            "text/plain": [
              "   Dias  Taxas\n",
              "0     1    123\n",
              "1     2     22\n",
              "2     3    556\n",
              "3     4     12\n",
              "4     5    132\n",
              "5     6     12"
            ]
          },
          "metadata": {
            "tags": []
          },
          "execution_count": 87
        }
      ]
    },
    {
      "cell_type": "code",
      "metadata": {
        "id": "9b6NeZ2PTpCv"
      },
      "source": [
        ""
      ],
      "execution_count": null,
      "outputs": []
    }
  ]
}